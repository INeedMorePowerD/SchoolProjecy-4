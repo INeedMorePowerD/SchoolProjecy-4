{
  "nbformat": 4,
  "nbformat_minor": 0,
  "metadata": {
    "colab": {
      "provenance": []
    },
    "kernelspec": {
      "name": "python3",
      "display_name": "Python 3"
    },
    "language_info": {
      "name": "python"
    }
  },
  "cells": [
    {
      "cell_type": "code",
      "execution_count": 6,
      "metadata": {
        "colab": {
          "base_uri": "https://localhost:8080/"
        },
        "id": "6FbT4Eb-4NPp",
        "outputId": "3889628f-448a-430c-f0ac-d6fcfa084381"
      },
      "outputs": [
        {
          "output_type": "stream",
          "name": "stdout",
          "text": [
            "Digite um número: 2\n",
            "Digite outro número: 3\n",
            "A soma desses dois números é 5.0\n",
            "A soma desses dois números é 5.0 \n"
          ]
        }
      ],
      "source": [
        "N1 = float(input(\"Digite um número: \"))\n",
        "N2 = float(input(\"Digite outro número: \"))\n",
        "N = N1 + N2\n",
        "\n",
        "print(f\"A soma desses dois números é {N1 + N2}\")\n",
        "\n",
        "print(\"A soma desses dois números é {} \".format(N))"
      ]
    },
    {
      "cell_type": "code",
      "source": [
        "produto = str(\"FlandreFumo\")\n",
        "preco = \"199,4\"\n",
        "quantia = int(\"69\")\n",
        "\n",
        "print(f\"O nome do produto é {produto}, ele custa {preco}, e tem {quantia} em stock\")\n",
        "\n",
        "print(\"O nome do produto é {}, ele custa {}, e tem {} em stock\".format(produto,preco,quantia))"
      ],
      "metadata": {
        "colab": {
          "base_uri": "https://localhost:8080/"
        },
        "id": "ONF4tffC6ngx",
        "outputId": "1519e584-2e52-4f74-b244-15a3532f9ac8"
      },
      "execution_count": 11,
      "outputs": [
        {
          "output_type": "stream",
          "name": "stdout",
          "text": [
            "O nome do produto é FlandreFumo, ele custa 199,4, e tem 69 em stock\n",
            "O nome do produto é FlandreFumo, ele custa 199,4, e tem 69 em stock\n"
          ]
        }
      ]
    },
    {
      "cell_type": "code",
      "source": [
        "Produto = \"livro\"\n",
        "PrecoUnitario = 35.50\n",
        "QuantidadeComprada = 2\n",
        "DescontoAplicado = 10\n",
        "\n",
        "preco = float(input(\"Valor do produto: \"))\n",
        "quantia = int(input(\"Quantidade de produtos: \"))\n",
        "desconto = int(input(\"Qual o desconto aplicado: \"))\n",
        "\n",
        "if preco == PrecoUnitario and quantia == QuantidadeComprada and desconto == DescontoAplicado:\n",
        "  print(f\"O subtotal da compra deu R${preco * quantia}, o desconto aplicado será de {desconto}%, no total deu R${preco * quantia - desconto/100 * preco * quantia}\")\n",
        "\n",
        "else:\n",
        "  print(\"Você digitou valores diferentes de o que você está comprando\")"
      ],
      "metadata": {
        "colab": {
          "base_uri": "https://localhost:8080/"
        },
        "id": "MbF25c477sDO",
        "outputId": "561a2ec0-5c5c-46b5-a964-9542576bbc81"
      },
      "execution_count": 71,
      "outputs": [
        {
          "output_type": "stream",
          "name": "stdout",
          "text": [
            "Valor do produto: 35.5\n",
            "Quantidade de produtos: 2\n",
            "Qual o desconto aplicado: 10\n",
            "O subtotal da compra deu R$71.0, o desconto aplicado será de 10%, no total deu R$63.9\n"
          ]
        }
      ]
    }
  ]
}